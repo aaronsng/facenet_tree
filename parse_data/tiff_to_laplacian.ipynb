{
 "cells": [
  {
   "cell_type": "code",
   "execution_count": 1,
   "id": "3036be49",
   "metadata": {},
   "outputs": [],
   "source": [
    "import pywt\n",
    "import numpy as np\n",
    "import cv2\n",
    "import os\n",
    "import tifffile as tiff\n",
    "from osgeo import gdal\n",
    "import math\n",
    "import scipy.signal"
   ]
  },
  {
   "cell_type": "code",
   "execution_count": 19,
   "id": "fc31f575",
   "metadata": {},
   "outputs": [],
   "source": [
    "# Directory information\n",
    "train = 'dec/'\n",
    "test  = 'may/'\n",
    "TEST = True\n",
    "VIZ = False\n",
    "output = 'output/'\n",
    "dec_train = os.listdir(train)\n",
    "may_test = os.listdir(test)"
   ]
  },
  {
   "cell_type": "code",
   "execution_count": 20,
   "id": "bde12404",
   "metadata": {},
   "outputs": [],
   "source": [
    "# Load individual channels\n",
    "image_ = []\n",
    "dwt_ = []\n",
    "\n",
    "# Laplacian Filter\n",
    "normalised_laplacian_ = [[0, -0.25, 0], [-0.25, 1, -0.25], [0, -0.25, 0]]\n",
    "\n",
    "if TEST:\n",
    "    dir_ = test\n",
    "    iter_ = may_test\n",
    "else:\n",
    "    dir_ = train\n",
    "    iter_ = dec_train\n",
    "    \n",
    "for i, file in enumerate(iter_):\n",
    "    if \"Store\"  in file:\n",
    "        continue\n",
    "        \n",
    "    arr = np.load(dir_ + file, allow_pickle=True)['data']\n",
    "    image_.append(arr[:,:,:5])\n",
    "    index = 0\n",
    "    a = np.zeros((arr[:,:,:5].shape[0] + 2, arr[:,:,:5].shape[1] + 2, 5))\n",
    "    \n",
    "    for j in range(5):\n",
    "        output_ = scipy.signal.convolve2d(arr[:,:,j], normalised_laplacian_)\n",
    "        \n",
    "        # Create an array to save\n",
    "        a[:,:,j] = output_\n",
    "        \n",
    "        dwt_.append(a)\n",
    "        \n",
    "    width = a.shape[0]\n",
    "    height = a.shape[1]\n",
    "    \n",
    "    # Obtain the label\n",
    "    file = file.split('.')[0]\n",
    "    file = ''.join(filter(lambda x: not x.isdigit(), file)).lower()\n",
    "    file = file.replace(' ', '_')\n",
    "    \n",
    "    if not TEST:\n",
    "        try:\n",
    "            # Create target Directory\n",
    "            os.mkdir(output + file)\n",
    "\n",
    "        except FileExistsError:\n",
    "            pass\n",
    "    \n",
    "    # Parameters to divide the image\n",
    "    div_x = int(width / 2)\n",
    "    div_y = int(height / 2)\n",
    "    \n",
    "    if VIZ:\n",
    "        np.save(file + '.npy', a)\n",
    "        continue\n",
    "    \n",
    "    # Split based on the four quadrants\n",
    "    if not TEST:\n",
    "        np.save(output + file + \"/\" + file + str(i) + '0.npy', a[:div_x, :div_y, :])\n",
    "        np.save(output + file + \"/\" + file + str(i) + '1.npy', a[:div_x, div_y:, :])\n",
    "        np.save(output + file + \"/\" + file + str(i) + '2.npy', a[div_x:, :div_y, :])\n",
    "        np.save(output + file + \"/\" + file + str(i) + '3.npy', a[div_x:, div_y:, :])\n",
    "    else:\n",
    "        np.save(output + file + str(i) + '0.npy', a[:div_x, :div_y, :])\n",
    "        np.save(output + file + str(i) + '1.npy', a[:div_x, div_y:, :])\n",
    "        np.save(output + file + str(i) + '2.npy', a[div_x:, :div_y, :])\n",
    "        np.save(output + file + str(i) + '3.npy', a[div_x:, div_y:, :])\n",
    "    "
   ]
  },
  {
   "cell_type": "code",
   "execution_count": 18,
   "id": "8ed1cf95",
   "metadata": {},
   "outputs": [
    {
     "data": {
      "image/png": "[encoded data removed]",
      "text/plain": [
       "<Figure size 432x288 with 1 Axes>"
      ]
     },
     "metadata": {
      "needs_background": "light"
     },
     "output_type": "display_data"
    }
   ],
   "source": [
    "import random\n",
    "import seaborn as sns\n",
    "\n",
    "color = [\"#\"+''.join([random.choice('0123456789ABCDEF') for j in range(6)]) for i in range(18)]\n",
    "\n",
    "for i in range(0, len(dwt_), 5): \n",
    "    arr = dwt_[i]\n",
    "    \n",
    "    sns.distplot(arr[:,:,4], kde=False, norm_hist=True)    "
   ]
  },
  {
   "cell_type": "code",
   "execution_count": 10,
   "id": "fcce21be",
   "metadata": {},
   "outputs": [
    {
     "data": {
      "text/plain": [
       "(98, 101, 5)"
      ]
     },
     "execution_count": 10,
     "metadata": {},
     "output_type": "execute_result"
    }
   ],
   "source": [
    "dwt_[1].shape"
   ]
  },
  {
   "cell_type": "code",
   "execution_count": 6,
   "id": "95828995",
   "metadata": {},
   "outputs": [
    {
     "data": {
      "text/plain": [
       "'/Users/aaron/Desktop/URECA/parse_data'"
      ]
     },
     "execution_count": 6,
     "metadata": {},
     "output_type": "execute_result"
    }
   ],
   "source": [
    "pwd"
   ]
  },
  {
   "cell_type": "code",
   "execution_count": null,
   "id": "f8c435fe",
   "metadata": {},
   "outputs": [],
   "source": []
  }
 ],
 "metadata": {
  "kernelspec": {
   "display_name": "Python 3 (ipykernel)",
   "language": "python",
   "name": "python3"
  },
  "language_info": {
   "codemirror_mode": {
    "name": "ipython",
    "version": 3
   },
   "file_extension": ".py",
   "mimetype": "text/x-python",
   "name": "python",
   "nbconvert_exporter": "python",
   "pygments_lexer": "ipython3",
   "version": "3.8.11"
  }
 },
 "nbformat": 4,
 "nbformat_minor": 5
}
